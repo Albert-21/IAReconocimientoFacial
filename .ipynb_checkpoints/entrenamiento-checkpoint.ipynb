{
 "cells": [
  {
   "cell_type": "code",
   "execution_count": null,
   "id": "2ffe39e5",
   "metadata": {},
   "outputs": [],
   "source": [
    "import cv2\n",
    "import os\n",
    "import numpy as np\n",
    "dataPath = 'Data'#Cambia a la ruta donde hayas almacenado Data\n",
    "peopleList = os.listdir(dataPath)\n",
    "print('Lista de personas: ', peopleList)\n",
    "labels = []\n",
    "facesData = []\n",
    "label = 0\n",
    "for nameDir in peopleList:\n",
    "    personPath = dataPath + '/' + nameDir\n",
    "    print('Leyendo las imágenes')\n",
    "    for fileName in os.listdir(personPath):\n",
    "        print('Rostros: ', nameDir + '/' + fileName)\n",
    "        labels.append(label)\n",
    "        facesData.append(cv2.imread(personPath+'/'+fileName,0))\n",
    "        #image = cv2.imread(personPath+'/'+fileName,0)\n",
    "        #cv2.imshow('image',image)\n",
    "        #cv2.waitKey(10)\n",
    "    label = label + 1\n",
    "#print('labels= ',labels)\n",
    "#print('Número de etiquetas 0: ',np.count_nonzero(np.array(labels)==0))\n",
    "#print('Número de etiquetas 1: ',np.count_nonzero(np.array(labels)==1))\n"
   ]
  },
  {
   "cell_type": "code",
   "execution_count": null,
   "id": "ce4dacd9",
   "metadata": {},
   "outputs": [],
   "source": [
    "# Métodos para entrenar el reconocedor\n",
    "#face_recognizer = cv2.face.EigenFaceRecognizer_create()\n",
    "face_recognizer = cv2.face.FisherFaceRecognizer_create()\n",
    "#face_recognizer = cv2.face.LBPHFaceRecognizer_create()\n",
    "print(\"Entrenando...\")\n",
    "face_recognizer.train(facesData, np.array(labels))\n",
    "\n",
    "face_recognizer.write('modeloLBPHFace.xml')\n",
    "print(\"Modelo almacenado...\")"
   ]
  },
  {
   "cell_type": "code",
   "execution_count": null,
   "id": "8be55776",
   "metadata": {},
   "outputs": [],
   "source": []
  }
 ],
 "metadata": {
  "kernelspec": {
   "display_name": "Python 3 (ipykernel)",
   "language": "python",
   "name": "python3"
  },
  "language_info": {
   "codemirror_mode": {
    "name": "ipython",
    "version": 3
   },
   "file_extension": ".py",
   "mimetype": "text/x-python",
   "name": "python",
   "nbconvert_exporter": "python",
   "pygments_lexer": "ipython3",
   "version": "3.8.10"
  },
  "toc": {
   "base_numbering": 1,
   "nav_menu": {},
   "number_sections": true,
   "sideBar": true,
   "skip_h1_title": false,
   "title_cell": "Table of Contents",
   "title_sidebar": "Contents",
   "toc_cell": false,
   "toc_position": {},
   "toc_section_display": true,
   "toc_window_display": false
  }
 },
 "nbformat": 4,
 "nbformat_minor": 5
}
