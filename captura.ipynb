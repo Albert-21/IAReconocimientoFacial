{
 "cells": [
  {
   "cell_type": "code",
   "execution_count": 3,
   "id": "df7573a3",
   "metadata": {},
   "outputs": [
    {
     "name": "stdout",
     "output_type": "stream",
     "text": [
      "Ingrese su nombreAlberto\n",
      "Carpeta creada:  Data/Alberto\n"
     ]
    }
   ],
   "source": [
    "import cv2\n",
    "import os\n",
    "import imutils\n",
    "personName = input(\"Ingrese su nombre\")\n",
    "dataPath = 'Data'#Cambia a la ruta donde hayas almacenado Data\n",
    "personPath = dataPath + '/' + personName\n",
    "if not os.path.exists(personPath):\n",
    "    print('Carpeta creada: ',personPath)\n",
    "    os.makedirs(personPath)\n",
    "cap = cv2.VideoCapture(0)\n",
    "#cap = cv2.VideoCapture('Video.mp4')\n",
    "faceClassif = cv2.CascadeClassifier(cv2.data.haarcascades+'haarcascade_frontalface_default.xml')\n",
    "count = 0\n",
    "while True:\n",
    "    \n",
    "    ret, frame = cap.read()\n",
    "    if ret == False: break\n",
    "    frame =  imutils.resize(frame, width=640)\n",
    "    gray = cv2.cvtColor(frame, cv2.COLOR_BGR2GRAY)\n",
    "    auxFrame = frame.copy()\n",
    "    faces = faceClassif.detectMultiScale(gray,1.3,5)\n",
    "    for (x,y,w,h) in faces:\n",
    "        cv2.rectangle(frame, (x,y),(x+w,y+h),(0,255,0),2)\n",
    "        rostro = auxFrame[y:y+h,x:x+w]\n",
    "        rostro = cv2.resize(rostro,(150,150),interpolation=cv2.INTER_CUBIC)\n",
    "        cv2.imwrite(personPath + '/rotro_{}.jpg'.format(count),rostro)\n",
    "        count = count + 1\n",
    "    cv2.imshow('frame',frame)\n",
    "    k =  cv2.waitKey(1)\n",
    "    if k == 27 or count >= 300:\n",
    "        break\n",
    "cap.release()\n",
    "cv2.destroyAllWindows()\n"
   ]
  },
  {
   "cell_type": "code",
   "execution_count": null,
   "id": "d6528d75",
   "metadata": {},
   "outputs": [],
   "source": []
  },
  {
   "cell_type": "code",
   "execution_count": null,
   "id": "c9145ba5",
   "metadata": {},
   "outputs": [],
   "source": []
  }
 ],
 "metadata": {
  "kernelspec": {
   "display_name": "Python 3 (ipykernel)",
   "language": "python",
   "name": "python3"
  },
  "language_info": {
   "codemirror_mode": {
    "name": "ipython",
    "version": 3
   },
   "file_extension": ".py",
   "mimetype": "text/x-python",
   "name": "python",
   "nbconvert_exporter": "python",
   "pygments_lexer": "ipython3",
   "version": "3.8.10"
  },
  "toc": {
   "base_numbering": 1,
   "nav_menu": {},
   "number_sections": true,
   "sideBar": true,
   "skip_h1_title": false,
   "title_cell": "Table of Contents",
   "title_sidebar": "Contents",
   "toc_cell": false,
   "toc_position": {},
   "toc_section_display": true,
   "toc_window_display": false
  }
 },
 "nbformat": 4,
 "nbformat_minor": 5
}
